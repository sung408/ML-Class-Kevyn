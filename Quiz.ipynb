{
 "cells": [
  {
   "cell_type": "markdown",
   "metadata": {},
   "source": [
    "## 3-5   Using the fitted model `m` create a precision-recall curve to answer the following question:\n",
    "\n",
    "For the fitted model `m`, approximately what precision can we expect for a recall of 0.8?\n",
    "\n",
    "(Use y_test and X_test to compute the precision-recall curve. If you wish to view a plot, you can use `plt.show()` )\n",
    "\n",
    "m()\n",
    "LogisticRegression(C=1.0, class_weight=None, dual=False, fit_intercept=True,\n",
    "          intercept_scaling=1, max_iter=100, multi_class='ovr', n_jobs=1,\n",
    "          penalty='l2', random_state=None, solver='liblinear', tol=0.0001,\n",
    "          verbose=0, warm_start=False)\n"
   ]
  },
  {
   "cell_type": "code",
   "execution_count": null,
   "metadata": {
    "collapsed": true
   },
   "outputs": [],
   "source": [
    "print(m)\n",
    "from sklearn.metrics import precision_recall_curve \n",
    "lr=m.fit(X_train, y_train)\n",
    "y_predicted=lr.predict(X_test)\n",
    "precision, recall, _ =precision_recall_curve(y_test, y_predicted)\n",
    "plt.figure()\n",
    "plt.plot(recall, precision)\n",
    "plt.grid()\n",
    "plt.show()"
   ]
  },
  {
   "cell_type": "markdown",
   "metadata": {},
   "source": [
    "# 3-8\n",
    "Using the fitted model `m` what is the micro precision score?\n",
    "(Use y_test and X_test to compute the precision score.)\n",
    "\n",
    "\n",
    "SVC(C=1.0, cache_size=200, class_weight=None, coef0=0.0,\n",
    "  decision_function_shape=None, degree=3, gamma='auto', kernel='rbf',\n",
    "  max_iter=-1, probability=False, random_state=None, shrinking=True,\n",
    "  tol=0.001, verbose=False)"
   ]
  },
  {
   "cell_type": "code",
   "execution_count": null,
   "metadata": {
    "collapsed": true
   },
   "outputs": [],
   "source": [
    "print(m)\n",
    "from sklearn.metrics import precision_score \n",
    "\n",
    "fitting=m.fit(X_train,y_train)\n",
    "predicted=fitting.predict(X_test)\n",
    "precision=precision_score(y_test, predicted,average=\"macro\" )\n",
    "print (precision)"
   ]
  },
  {
   "cell_type": "markdown",
   "metadata": {},
   "source": [
    "# 3-13    \n",
    "Using the already defined RBF SVC model `m`, run a grid search on the parameters C and gamma, for values [0.01, 0.1, 1, 10]. The grid search should find the model that best optimizes for recall. How much better is the recall of this model than the precision? (Compute recall - precision to 3 decimal places)\n",
    "\n",
    "(Use y_test and X_test to compute precision and recall.)\n",
    "\n",
    "\n",
    "SVC(C=1.0, cache_size=200, class_weight=None, coef0=0.0,\n",
    "  decision_function_shape=None, degree=3, gamma='auto', kernel='rbf',\n",
    "  max_iter=-1, probability=False, random_state=0, shrinking=True,\n",
    "  tol=0.001, verbose=False)\n",
    "  \n",
    "  \n"
   ]
  },
  {
   "cell_type": "code",
   "execution_count": null,
   "metadata": {
    "collapsed": true
   },
   "outputs": [],
   "source": [
    "print(m)\n",
    "from sklearn.model_selection import GridSearchCV\n",
    "from sklearn.metrics import recall_score, precision_score\n",
    "\n",
    "grid_values={'C':[0.01,0.1,1,10],'gamma':[0.01,0.1,1,10]}\n",
    "\n",
    "grid_clf = GridSearchCV(m,param_grid=grid_values, scoring=\"recall\")\n",
    "grid_clf.fit(X_train, y_train)\n",
    "print (grid_clf.best_params_,grid_clf.best_score_)\n",
    "\n",
    "\n",
    "grid_values2={'C':[0.01],'gamma':[0.01]}\n",
    "grid_clf2 = GridSearchCV(m,param_grid=grid_values2, scoring=\"recall\")\n",
    "grid_clf2.fit(X_train, y_train)\n",
    "y_predict2=grid_clf2.predict(X_test)\n",
    "recall=recall_score(y_test, y_predict2)\n",
    "\n",
    "\n",
    "grid_clf3 = GridSearchCV(m,param_grid=grid_values2, scoring=\"precision\")\n",
    "grid_clf3.fit(X_train, y_train)\n",
    "y_predict3=grid_clf3.predict(X_test)\n",
    "precision=precision_score(y_test, y_predict3)\n",
    "\n",
    "\n",
    "\n",
    "print ('recall is' , recall)\n",
    "print ('precision is' , precision)"
   ]
  },
  {
   "cell_type": "markdown",
   "metadata": {},
   "source": [
    "# 3-14  \n",
    "14. \n",
    "Using the already defined RBF SVC model `m`, run a grid search on the parameters C and gamma, for values [0.01, 0.1, 1, 10]. The grid search should find the model that best optimizes for precision. How much better is the precision of this model than the recall? (Compute precision - recall to 3 decimal places)\n",
    "\n",
    "(Use y_test and X_test to compute precision and recall.)\n",
    "\n",
    "\n",
    "SVC(C=1.0, cache_size=200, class_weight=None, coef0=0.0,\n",
    "  decision_function_shape=None, degree=3, gamma='auto', kernel='rbf',\n",
    "  max_iter=-1, probability=False, random_state=0, shrinking=True,\n",
    "  tol=0.001, verbose=False)"
   ]
  },
  {
   "cell_type": "code",
   "execution_count": 4,
   "metadata": {},
   "outputs": [
    {
     "ename": "NameError",
     "evalue": "name 'fruits' is not defined",
     "output_type": "error",
     "traceback": [
      "\u001b[1;31m---------------------------------------------------------------------------\u001b[0m",
      "\u001b[1;31mNameError\u001b[0m                                 Traceback (most recent call last)",
      "\u001b[1;32m<ipython-input-4-cb0c364a9dbf>\u001b[0m in \u001b[0;36m<module>\u001b[1;34m()\u001b[0m\n\u001b[1;32m----> 1\u001b[1;33m \u001b[0mfruits\u001b[0m\u001b[1;33m.\u001b[0m\u001b[0mhead\u001b[0m\u001b[1;33m(\u001b[0m\u001b[1;33m)\u001b[0m\u001b[1;33m\u001b[0m\u001b[0m\n\u001b[0m",
      "\u001b[1;31mNameError\u001b[0m: name 'fruits' is not defined"
     ]
    }
   ],
   "source": [
    "print(m)\n",
    "from sklearn.model_selection import GridSearchCV\n",
    "from sklearn.metrics import recall_score, precision_score\n",
    "\n",
    "grid_values={'C':[0.01,0.1,1,10],'gamma':[0.01,0.1,1,10]}\n",
    "\n",
    "grid_clf = GridSearchCV(m,param_grid=grid_values, scoring=\"precision\")\n",
    "grid_clf.fit(X_train, y_train)\n",
    "print (grid_clf.best_params_,grid_clf.best_score_)\n",
    "\n",
    "\n",
    "grid_values2={'C':[10],'gamma':[1]}\n",
    "grid_clf2 = GridSearchCV(m,param_grid=grid_values2, scoring=\"recall\")\n",
    "grid_clf2.fit(X_train, y_train)\n",
    "y_predict2=grid_clf2.predict(X_test)\n",
    "recall=recall_score(y_test, y_predict2)\n",
    "\n",
    "\n",
    "grid_clf3 = GridSearchCV(m,param_grid=grid_values2, scoring=\"precision\")\n",
    "grid_clf3.fit(X_train, y_train)\n",
    "y_predict3=grid_clf3.predict(X_test)\n",
    "precision=precision_score(y_test, y_predict3)\n",
    "\n",
    "\n",
    "\n",
    "print ('recall is' , recall)\n",
    "print ('precision is' , precision)"
   ]
  }
 ],
 "metadata": {
  "anaconda-cloud": {},
  "kernelspec": {
   "display_name": "Python 3",
   "language": "python",
   "name": "python3"
  },
  "language_info": {
   "codemirror_mode": {
    "name": "ipython",
    "version": 3
   },
   "file_extension": ".py",
   "mimetype": "text/x-python",
   "name": "python",
   "nbconvert_exporter": "python",
   "pygments_lexer": "ipython3",
   "version": "3.6.1"
  }
 },
 "nbformat": 4,
 "nbformat_minor": 1
}
