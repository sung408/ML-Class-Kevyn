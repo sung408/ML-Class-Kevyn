{
 "cells": [
  {
   "cell_type": "markdown",
   "metadata": {},
   "source": [
    "---\n",
    "\n",
    "_You are currently looking at **version 1.0** of this notebook. To download notebooks and datafiles, as well as get help on Jupyter notebooks in the Coursera platform, visit the [Jupyter Notebook FAQ](https://www.coursera.org/learn/python-machine-learning/resources/bANLa) course resource._\n",
    "\n",
    "---"
   ]
  },
  {
   "cell_type": "code",
   "execution_count": 64,
   "metadata": {
    "collapsed": false
   },
   "outputs": [],
   "source": [
    "def blight_model():\n",
    "    import pandas as pd\n",
    "    import numpy as np\n",
    "    from datetime import datetime\n",
    "    from sklearn.preprocessing import MinMaxScaler\n",
    "    from sklearn.ensemble import RandomForestClassifier\n",
    "    from sklearn.metrics import auc\n",
    "\n",
    "    def time_gap(hearing_date_str, ticket_issued_date_str):\n",
    "        from datetime import datetime      \n",
    "        if not hearing_date_str or type(hearing_date_str)!=str: return 0\n",
    "        hearing_date = datetime.strptime(hearing_date_str, \"%Y-%m-%d %H:%M:%S\")\n",
    "        ticket_issued_date = datetime.strptime(ticket_issued_date_str, \"%Y-%m-%d %H:%M:%S\")\n",
    "        gap = hearing_date - ticket_issued_date\n",
    "        return gap.days\n",
    "\n",
    "    dfTrain=pd.read_csv('train.csv',encoding = \"ISO-8859-1\")\n",
    "    dfTrain=dfTrain.loc[dfTrain['compliance'].isin([0.0, 1.0])]\n",
    "    dfAddr =  pd.read_csv('addresses.csv')\n",
    "    dfll = pd.read_csv('latlons.csv')\n",
    "    dfAddress = dfAddr.set_index('address').join(dfll.set_index('address'), how='left')\n",
    "    dfTrain = dfTrain.set_index('ticket_id').join(dfAddress.set_index('ticket_id'))\n",
    "    dfTrain=dfTrain.fillna(method='pad',axis=1)\n",
    "    dfTrain['time_gap'] = dfTrain.apply(lambda row: time_gap(row['hearing_date'], row['ticket_issued_date']), axis=1)\n",
    "    dfTrain.loc[dfTrain.time_gap<0, 'time_gap']=0\n",
    "\n",
    "    list_to_remove_train = [\n",
    "    'balance_due',\n",
    "    'collection_status',\n",
    "    'compliance_detail',\n",
    "    'payment_amount',\n",
    "    'payment_date',\n",
    "    'payment_status'\n",
    "    ]\n",
    "    list_to_remove_all = ['violator_name','zip_code', 'country', 'city','state','violation_street_number', 'violation_street_name',\n",
    "          'violation_zip_code','violation_description','admin_fee','state_fee',\n",
    "          'mailing_address_str_number', 'mailing_address_str_name',\n",
    "          'non_us_str_code','ticket_issued_date', 'hearing_date', 'grafitti_status']\n",
    "    Get_dummy_col=['agency_name', 'inspector_name', 'violation_code','disposition']\n",
    "\n",
    "\n",
    "    dfTrain.drop(list_to_remove_train,axis=1,inplace=True)\n",
    "    y_train=dfTrain['compliance']\n",
    "    dfTrain.drop('compliance',axis=1,inplace=True)\n",
    "    X_train=dfTrain.drop(list_to_remove_all, axis=1)\n",
    "    X_train=pd.get_dummies(X_train, columns=Get_dummy_col)\n",
    "\n",
    "    dfTest=pd.read_csv('test.csv')\n",
    "    dfTest = dfTest.set_index('ticket_id').join(dfAddress.set_index('ticket_id'))\n",
    "    dfTest['time_gap'] = dfTest.apply(lambda row: time_gap(row['hearing_date'], row['ticket_issued_date']), axis=1)\n",
    "\n",
    "    dfTest.drop(list_to_remove_all, axis=1, inplace=True)\n",
    "    X_test=pd.get_dummies(dfTest, columns=Get_dummy_col)\n",
    "\n",
    "    train_features = set(X_train)    \n",
    "    for feature in set(train_features):\n",
    "        if feature not in X_test:\n",
    "            train_features.remove(feature)\n",
    "    train_features = list(train_features)\n",
    "    X_train = X_train[train_features]\n",
    "    X_test = X_test[train_features]\n",
    "\n",
    "    X_train=X_train.fillna(method='pad',axis=1)\n",
    "    X_test=X_test.fillna(method='pad',axis=1)\n",
    "\n",
    "    scaler = MinMaxScaler()\n",
    "    X_train_scaled = scaler.fit_transform(X_train)\n",
    "    X_test_scaled = scaler.transform(X_test)\n",
    "    y_train=y_train.astype('float').astype('int')\n",
    "    clf = RandomForestClassifier()\n",
    "    y_proba=clf.fit(X_train_scaled, y_train).predict_proba(X_test_scaled)\n",
    "    y_proba=y_proba[:,1]\n",
    "    X_test['compliance']=y_proba\n",
    "    \n",
    "    return X_test.compliance\n",
    "\n",
    "\n"
   ]
  },
  {
   "cell_type": "code",
   "execution_count": 63,
   "metadata": {
    "collapsed": false
   },
   "outputs": [
    {
     "name": "stderr",
     "output_type": "stream",
     "text": [
      "/opt/conda/lib/python3.5/site-packages/IPython/core/interactiveshell.py:2821: DtypeWarning: Columns (11,12,31) have mixed types. Specify dtype option on import or set low_memory=False.\n",
      "  if self.run_code(code, result):\n"
     ]
    },
    {
     "data": {
      "text/plain": [
       "ticket_id\n",
       "284932    0.1\n",
       "285362    0.0\n",
       "285361    0.3\n",
       "285338    0.1\n",
       "285346    0.2\n",
       "285345    0.0\n",
       "285347    0.1\n",
       "285342    0.9\n",
       "285530    0.0\n",
       "284989    0.0\n",
       "285344    0.0\n",
       "285343    0.0\n",
       "285340    0.0\n",
       "285341    0.0\n",
       "285349    0.2\n",
       "285348    0.0\n",
       "284991    0.0\n",
       "285532    0.0\n",
       "285406    0.0\n",
       "285001    0.0\n",
       "285006    0.0\n",
       "285405    0.0\n",
       "285337    0.0\n",
       "285496    0.5\n",
       "285497    0.1\n",
       "285378    0.0\n",
       "285589    0.1\n",
       "285585    0.1\n",
       "285501    0.1\n",
       "285581    0.0\n",
       "         ... \n",
       "376367    0.0\n",
       "376366    0.0\n",
       "376362    0.0\n",
       "376363    0.1\n",
       "376365    0.0\n",
       "376364    0.0\n",
       "376228    0.4\n",
       "376265    0.0\n",
       "376286    0.0\n",
       "376320    0.1\n",
       "376314    0.0\n",
       "376327    0.0\n",
       "376385    0.2\n",
       "376435    0.7\n",
       "376370    0.9\n",
       "376434    0.0\n",
       "376459    0.0\n",
       "376478    0.2\n",
       "376473    0.0\n",
       "376484    0.1\n",
       "376482    0.3\n",
       "376480    0.0\n",
       "376479    0.0\n",
       "376481    0.0\n",
       "376483    0.0\n",
       "376496    0.0\n",
       "376497    0.0\n",
       "376499    0.0\n",
       "376500    0.0\n",
       "369851    0.7\n",
       "Name: compliance, dtype: float64"
      ]
     },
     "execution_count": 63,
     "metadata": {},
     "output_type": "execute_result"
    }
   ],
   "source": [
    "# x=blight_model()\n",
    "# x"
   ]
  },
  {
   "cell_type": "code",
   "execution_count": null,
   "metadata": {
    "collapsed": true
   },
   "outputs": [],
   "source": []
  }
 ],
 "metadata": {
  "coursera": {
   "course_slug": "python-machine-learning",
   "graded_item_id": "nNS8l",
   "launcher_item_id": "yWWk7",
   "part_id": "w8BSS"
  },
  "kernelspec": {
   "display_name": "Python 3",
   "language": "python",
   "name": "python3"
  },
  "language_info": {
   "codemirror_mode": {
    "name": "ipython",
    "version": 3
   },
   "file_extension": ".py",
   "mimetype": "text/x-python",
   "name": "python",
   "nbconvert_exporter": "python",
   "pygments_lexer": "ipython3",
   "version": "3.5.2"
  }
 },
 "nbformat": 4,
 "nbformat_minor": 2
}
